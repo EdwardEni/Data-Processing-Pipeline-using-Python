{
 "cells": [
  {
   "cell_type": "markdown",
   "id": "8f26dd83-38c5-4f0d-be71-19add2bef2ad",
   "metadata": {},
   "source": [
    "Data preprocessing is a critical step in data science tasks, ensuring that raw data is transformed into a clean, organized, and structured format suitable for analysis. A data preprocessing pipeline streamlines this complex process by automating a series of steps, enabling data professionals to efficiently and consistently preprocess diverse datasets\n",
    "\n",
    "What is a Data Preprocessing Pipeline?\n",
    "Data Preprocessing involves transforming and manipulating raw data to improve its quality, consistency, and relevance for analysis. It encompasses several tasks, including handling missing values, standardizing variables, and removing outliers. By performing these preprocessing steps, data professionals ensure that subsequent analysis is based on reliable and accurate data, leading to better insights and predictions.\n",
    "\n",
    "A data preprocessing pipeline is a systematic and automated approach that combines multiple preprocessing steps into a cohesive workflow. It serves as a roadmap for data professionals, guiding them through the transformations and calculations needed to cleanse and prepare data for analysis. The pipeline consists of interconnected steps, each of which is responsible for a specific preprocessing task, such as:\n",
    "\n",
    "imputing missing values\n",
    "scaling numeric features\n",
    "finding and removing outliers\n",
    "or encoding categorical variables\n",
    "By following the predefined sequence of operations, the pipeline ensures consistency, reproducibility, and efficiency in overall preprocessing steps.\n",
    "\n",
    "How a Data Preprocessing Pipeline Helps Data Professionals?\n",
    "A Data Preprocessing pipeline is crucial to help various data science professionals, including data engineers, data analysts, data scientists, and machine learning engineers, in their respective roles.\n",
    "\n",
    "For Data Engineers, the pipeline simplifies work by automating data transformation tasks, allowing them to focus on designing scalable data architectures and optimizing data pipelines.\n",
    "\n",
    "Data Analysts benefit from the pipeline’s ability to normalize and clean data, ensuring accuracy and reducing time spent on data cleaning tasks. It allows analysts to spend more time on exploratory data analysis and gaining meaningful insights.\n",
    "\n",
    "On the other hand, Data Scientists and Machine Learning Engineers rely on clean and well-preprocessed data for accurate predictive modelling and advanced analytics. The preprocessing pipeline automates repetitive preprocessing tasks, allowing them efficiently experiment and quickly iterate on their datasets.\n",
    "\n",
    "A Data Preprocessing pipeline should be able to handle missing values, standardize numerical features, remove outliers, and ensure easy replication of preprocessing steps on new datasets. Now, here’s how to create a Data Preprocessing pipeline using Python based on the fundamental functions that every pipeline should perform while preprocessing any dataset"
   ]
  },
  {
   "cell_type": "code",
   "execution_count": 1,
   "id": "c2038ec5-8c41-41be-8d05-ffcf2cf953b9",
   "metadata": {},
   "outputs": [],
   "source": [
    "import pandas as pd\n",
    "import numpy as np\n",
    "from sklearn.preprocessing import StandardScaler\n",
    "\n",
    "def data_preprocessing_pipeline(data):\n",
    "    #Identify numeric and categorical features\n",
    "    numeric_features = data.select_dtypes(include=['float', 'int']).columns\n",
    "    categorical_features = data.select_dtypes(include=['object']).columns\n",
    "\n",
    "    #Handle missing values in numeric features\n",
    "    data[numeric_features] = data[numeric_features].fillna(data[numeric_features].mean())\n",
    "\n",
    "    #Detect and handle outliers in numeric features using IQR\n",
    "    for feature in numeric_features:\n",
    "        Q1 = data[feature].quantile(0.25)\n",
    "        Q3 = data[feature].quantile(0.75)\n",
    "        IQR = Q3 - Q1\n",
    "        lower_bound = Q1 - (1.5 * IQR)\n",
    "        upper_bound = Q3 + (1.5 * IQR)\n",
    "        data[feature] = np.where((data[feature] < lower_bound) | (data[feature] > upper_bound),\n",
    "                                 data[feature].mean(), data[feature])\n",
    "\n",
    "    #Normalize numeric features\n",
    "    scaler = StandardScaler()\n",
    "    scaled_data = scaler.fit_transform(data[numeric_features])\n",
    "    data[numeric_features] = scaler.transform(data[numeric_features])\n",
    "\n",
    "    #Handle missing values in categorical features\n",
    "    data[categorical_features] = data[categorical_features].fillna(data[categorical_features].mode().iloc[0])\n",
    "\n",
    "    return data"
   ]
  },
  {
   "cell_type": "markdown",
   "id": "9324afbb-3063-49b8-8f51-12196335e2da",
   "metadata": {},
   "source": [
    "This pipeline is designed to handle various preprocessing tasks on any given dataset. Let’s explore how each step in the pipeline contributes to the overall preprocessing process:\n",
    "\n",
    "The pipeline begins by identifying the numeric and categorical features in the dataset.\n",
    "Next, the pipeline addresses any missing values present in the numeric features. It fills these missing values with the mean value of each respective numeric feature (you can modify this step according to your desired way of filling in missing values of a numerical feature). It ensures that missing data does not hinder subsequent analysis and computations.\n",
    "The pipeline then identifies and handles outliers within the numeric features using the Interquartile Range (IQR) method. Calculating the quartiles and the IQR determines upper and lower boundaries for outliers. Any values outside these boundaries are replaced with the mean value of the respective numeric feature. This step helps prevent the influence of extreme values on subsequent analyses and model building.\n",
    "After handling missing values and outliers, the pipeline normalizes the numeric features. This process ensures that all numeric features contribute equally to subsequent analysis, avoiding biases caused by varying magnitudes.\n",
    "The pipeline proceeds to handle missing values in the categorical features. It fills these missing values with the mode value, representing the most frequently occurring category.\n",
    "\n",
    "By following this pipeline, data professionals can automate and streamline the process of preparing data for analysis, ensuring data quality, reliability, and consistency"
   ]
  },
  {
   "cell_type": "code",
   "execution_count": 2,
   "id": "c46f8555-8dfe-45ed-9853-04f4d5d464f9",
   "metadata": {},
   "outputs": [
    {
     "name": "stdout",
     "output_type": "stream",
     "text": [
      "Original Data\n",
      "   NumericFeature1  NumericFeature2 CategoricalFeature\n",
      "0              1.0                7                  A\n",
      "1              2.0                8                  B\n",
      "2              NaN                9                NaN\n",
      "3              4.0               10                  A\n",
      "4              5.0               11                  B\n",
      "5              6.0               50                  C\n"
     ]
    }
   ],
   "source": [
    "data = pd.read_csv(r\"C:\\Users\\Prince\\Documents\\DATA SCIENCE PROJECTS\\DATA ENGINEERING\\Data Processing Pipeline using Python\\data.csv\")\n",
    "print(\"Original Data\")\n",
    "print(data)"
   ]
  },
  {
   "cell_type": "code",
   "execution_count": 3,
   "id": "377ecebc-781a-4769-b7cd-a9c7e9eecd5a",
   "metadata": {},
   "outputs": [
    {
     "name": "stdout",
     "output_type": "stream",
     "text": [
      "Preprocessed Data:\n",
      "   NumericFeature1  NumericFeature2 CategoricalFeature\n",
      "0        -1.535624        -1.099370                  A\n",
      "1        -0.944999        -0.749128                  B\n",
      "2         0.000000        -0.398886                  A\n",
      "3         0.236250        -0.048645                  A\n",
      "4         0.826874         0.301597                  B\n",
      "5         1.417499         1.994431                  C\n"
     ]
    }
   ],
   "source": [
    "#here’s how you can use this pipeline to perform all the preprocessing steps using Python\n",
    "#Perform data preprocessing\n",
    "cleaned_data = data_preprocessing_pipeline(data)\n",
    "\n",
    "print(\"Preprocessed Data:\")\n",
    "print(cleaned_data)\n"
   ]
  },
  {
   "cell_type": "markdown",
   "id": "9e213ccf-d9d1-4fa8-91cc-aa00d09f79d2",
   "metadata": {},
   "source": [
    "Summary\n",
    "Data Preprocessing involves transforming and manipulating raw data to improve its quality, consistency, and relevance for analysis. A data preprocessing pipeline is a systematic and automated approach that combines multiple preprocessing steps into a cohesive workflow. It serves as a roadmap for data professionals, guiding them through the transformations and calculations needed to cleanse and prepare data for analysis."
   ]
  }
 ],
 "metadata": {
  "kernelspec": {
   "display_name": "Python 3 (ipykernel)",
   "language": "python",
   "name": "python3"
  },
  "language_info": {
   "codemirror_mode": {
    "name": "ipython",
    "version": 3
   },
   "file_extension": ".py",
   "mimetype": "text/x-python",
   "name": "python",
   "nbconvert_exporter": "python",
   "pygments_lexer": "ipython3",
   "version": "3.12.7"
  }
 },
 "nbformat": 4,
 "nbformat_minor": 5
}
